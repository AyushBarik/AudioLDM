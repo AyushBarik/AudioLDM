{
 "cells": [
  {
   "cell_type": "code",
   "execution_count": 1,
   "id": "56fda00e",
   "metadata": {},
   "outputs": [],
   "source": [
    "import os\n",
    "import numpy as np\n",
    "import torch\n",
    "import IPython.display as ipd\n",
    "import matplotlib.pyplot as plt\n",
    "import librosa\n",
    "import librosa.display\n",
    "import torch \n",
    "import time\n",
    "from audioldm import build_model\n",
    "from audioldm.latent_diffusion.ddim import DDIMSampler\n",
    "from torch.profiler import profile, record_function, ProfilerActivity\n",
    "\n",
    "sr = 16000\n",
    "# sr = 24000\n",
    "\n",
    "# Testing notebook modification - this is a random comment! 🚀"
   ]
  },
  {
   "cell_type": "code",
   "execution_count": 2,
   "id": "38c03693",
   "metadata": {},
   "outputs": [
    {
     "name": "stdout",
     "output_type": "stream",
     "text": [
      "Load AudioLDM: %s audioldm-m-full\n",
      "DiffusionWrapper has 415.95 M params.\n"
     ]
    },
    {
     "name": "stderr",
     "output_type": "stream",
     "text": [
      "/home/manish/Ayush/audioldm/ldmenv/lib/python3.8/site-packages/torch/nn/utils/weight_norm.py:134: FutureWarning: `torch.nn.utils.weight_norm` is deprecated in favor of `torch.nn.utils.parametrizations.weight_norm`.\n",
      "  WeightNorm.apply(module, name, dim)\n",
      "/home/manish/Ayush/audioldm/ldmenv/lib/python3.8/site-packages/tqdm/auto.py:21: TqdmWarning: IProgress not found. Please update jupyter and ipywidgets. See https://ipywidgets.readthedocs.io/en/stable/user_install.html\n",
      "  from .autonotebook import tqdm as notebook_tqdm\n",
      "/home/manish/Ayush/audioldm/ldmenv/lib/python3.8/site-packages/torch/functional.py:513: UserWarning: torch.meshgrid: in an upcoming release, it will be required to pass the indexing argument. (Triggered internally at ../aten/src/ATen/native/TensorShape.cpp:3609.)\n",
      "  return _VF.meshgrid(tensors, **kwargs)  # type: ignore[attr-defined]\n",
      "Some weights of RobertaModel were not initialized from the model checkpoint at roberta-base and are newly initialized: ['roberta.pooler.dense.bias', 'roberta.pooler.dense.weight']\n",
      "You should probably TRAIN this model on a down-stream task to be able to use it for predictions and inference.\n",
      "/home/manish/Ayush/audioldm/AudioLDM/audioldm/pipeline.py:85: FutureWarning: You are using `torch.load` with `weights_only=False` (the current default value), which uses the default pickle module implicitly. It is possible to construct malicious pickle data which will execute arbitrary code during unpickling (See https://github.com/pytorch/pytorch/blob/main/SECURITY.md#untrusted-models for more details). In a future release, the default value for `weights_only` will be flipped to `True`. This limits the functions that could be executed during unpickling. Arbitrary objects will no longer be allowed to be loaded via this mode unless they are explicitly allowlisted by the user via `torch.serialization.add_safe_globals`. We recommend you start setting `weights_only=True` for any use case where you don't have full control of the loaded file. Please open an issue on GitHub for any issues related to this experimental feature.\n",
      "  checkpoint = torch.load(resume_from_checkpoint, map_location=device)\n"
     ]
    },
    {
     "name": "stdout",
     "output_type": "stream",
     "text": [
      "MODEL LOADING MEMORY: 4436.2 MiB (current: 4436.2 MiB)\n"
     ]
    }
   ],
   "source": [
    "\n",
    "model = build_model(model_name=\"audioldm-m-full\")\n",
    "\n",
    "# Clear cache and reset memory tracking for clean baseline measurement\n",
    "torch.cuda.empty_cache()\n",
    "torch.cuda.reset_peak_memory_stats()\n",
    "torch.cuda.synchronize()\n",
    "\n",
    "# Get baseline memory after model loading\n",
    "baseline_memory = torch.cuda.max_memory_allocated() / (1024 * 1024)  # Convert to MiB\n",
    "current_memory = torch.cuda.memory_allocated() / (1024 * 1024)  # Convert to MiB\n",
    "\n",
    "print(f\"MODEL LOADING MEMORY: {baseline_memory:.1f} MiB (current: {current_memory:.1f} MiB)\")"
   ]
  },
  {
   "cell_type": "code",
   "execution_count": 3,
   "id": "cf46ac20",
   "metadata": {},
   "outputs": [],
   "source": [
    "prompt = \"A violin playing a heartfelt melody.\"\n",
    "duration = 15.0  "
   ]
  },
  {
   "cell_type": "code",
   "execution_count": 4,
   "id": "4e8922eb",
   "metadata": {},
   "outputs": [],
   "source": [
    "model.cond_stage_model.embed_mode = \"text\"\n",
    "text_list = [prompt] \n",
    "\n",
    "text_emb = model.get_learned_conditioning(text_list)\n",
    "\n",
    "unconditional_text = [\"\"] \n",
    "unconditional_embedding = model.get_learned_conditioning(unconditional_text)"
   ]
  },
  {
   "cell_type": "code",
   "execution_count": 5,
   "id": "6fa62e29",
   "metadata": {},
   "outputs": [
    {
     "name": "stderr",
     "output_type": "stream",
     "text": [
      "DDIM Sampler: 100%|██████████| 200/200 [00:15<00:00, 13.18it/s]\n"
     ]
    },
    {
     "name": "stdout",
     "output_type": "stream",
     "text": [
      "DIFFUSION ISOLATED PEAK: 4956.2 MiB (cost: +510.8 MiB)\n",
      "DIFFUSION CURRENT MEMORY: 4446.5 MiB\n",
      "DIFFUSION TIME: 15.2s (0.076s per step)\n",
      "BEFORE empty_cache() - Current memory: 4446.5 MiB\n",
      "Now run 'nvidia-smi' in terminal to see memory before empty_cache()\n",
      "AFTER empty_cache() - Current memory: 4446.5 MiB\n",
      "Now run 'nvidia-smi' again to see if reserved memory decreased\n"
     ]
    }
   ],
   "source": [
    "# DIFFUSION VRAM MEASUREMENT\n",
    "sampler = DDIMSampler(model)\n",
    "\n",
    "from audioldm.pipeline import duration_to_latent_t_size\n",
    "latent_size = duration_to_latent_t_size(duration)\n",
    "shape = [model.channels, latent_size, model.latent_f_size]\n",
    "z = torch.randn([1] + shape).to(model.device)\n",
    "\n",
    "ddim_steps = 200\n",
    "ddim_eta = 0.1\n",
    "unconditional_guidance_scale = 3.0\n",
    "\n",
    "# Get memory before diffusion and reset peak tracker\n",
    "memory_before_diffusion = torch.cuda.memory_allocated() / (1024 * 1024)\n",
    "torch.cuda.reset_peak_memory_stats()\n",
    "\n",
    "# Run diffusion\n",
    "start_time = time.time()\n",
    "samples, _ = sampler.sample(\n",
    "    S=ddim_steps,  \n",
    "    batch_size=1,\n",
    "    shape=shape,\n",
    "    conditioning=text_emb,\n",
    "    unconditional_conditioning=unconditional_embedding,\n",
    "    unconditional_guidance_scale=unconditional_guidance_scale,\n",
    "    eta=ddim_eta,\n",
    "    verbose=False,\n",
    "    x_T=z\n",
    ")\n",
    "torch.cuda.synchronize()\n",
    "\n",
    "# Get time and memory\n",
    "diffusion_time = time.time() - start_time\n",
    "isolated_peak = torch.cuda.max_memory_allocated() / (1024 * 1024)  # Convert to MiB\n",
    "current_memory = torch.cuda.memory_allocated() / (1024 * 1024)  # Convert to MiB\n",
    "isolated_cost = isolated_peak - memory_before_diffusion\n",
    "\n",
    "print(f\"DIFFUSION ISOLATED PEAK: {isolated_peak:.1f} MiB (cost: +{isolated_cost:.1f} MiB)\")\n",
    "print(f\"DIFFUSION CURRENT MEMORY: {current_memory:.1f} MiB\")\n",
    "print(f\"DIFFUSION TIME: {diffusion_time:.1f}s ({diffusion_time/ddim_steps:.3f}s per step)\")\n",
    "\n",
    "# TEST: Force release cached memory to see if nvidia-smi goes down\n",
    "print(f\"BEFORE empty_cache() - Current memory: {torch.cuda.memory_allocated() / (1024 * 1024):.1f} MiB\")\n",
    "print(\"Now run 'nvidia-smi' in terminal to see memory before empty_cache()\")\n",
    "time.sleep(2)\n",
    "torch.cuda.empty_cache()\n",
    "print(f\"AFTER empty_cache() - Current memory: {torch.cuda.memory_allocated() / (1024 * 1024):.1f} MiB\")\n",
    "print(\"Now run 'nvidia-smi' again to see if reserved memory decreased\")"
   ]
  },
  {
   "cell_type": "code",
   "execution_count": 6,
   "id": "9b0987f8",
   "metadata": {},
   "outputs": [
    {
     "name": "stdout",
     "output_type": "stream",
     "text": [
      "VAE DECODER ISOLATED PEAK: 4832.9 MiB (cost: +386.4 MiB)\n",
      "VAE DECODER CURRENT MEMORY: 4446.9 MiB\n",
      "VAE TIME: 0.1s\n",
      "BEFORE VAE empty_cache() - Current memory: 4446.9 MiB\n",
      "Check nvidia-smi now to see memory before VAE empty_cache()\n",
      "AFTER VAE empty_cache() - Current memory: 4446.9 MiB\n",
      "Check nvidia-smi again to see if VAE cached memory was released\n"
     ]
    }
   ],
   "source": [
    "# VAE DECODER VRAM MEASUREMENT\n",
    "# Get memory before VAE and reset peak tracker\n",
    "memory_before_vae = torch.cuda.memory_allocated() / (1024 * 1024)\n",
    "torch.cuda.reset_peak_memory_stats()\n",
    "\n",
    "# Run VAE\n",
    "start_time = time.time()\n",
    "mel_spectrogram = model.decode_first_stage(samples)\n",
    "torch.cuda.synchronize()\n",
    "vae_time = time.time() - start_time\n",
    "\n",
    "# Get memory usage\n",
    "isolated_peak = torch.cuda.max_memory_allocated() / (1024 * 1024)  # Convert to MiB\n",
    "current_memory = torch.cuda.memory_allocated() / (1024 * 1024)  # Convert to MiB\n",
    "isolated_cost = isolated_peak - memory_before_vae\n",
    "\n",
    "print(f\"VAE DECODER ISOLATED PEAK: {isolated_peak:.1f} MiB (cost: +{isolated_cost:.1f} MiB)\")\n",
    "print(f\"VAE DECODER CURRENT MEMORY: {current_memory:.1f} MiB\")\n",
    "print(f\"VAE TIME: {vae_time:.1f}s\")\n",
    "\n",
    "# Keep mel_spectrogram as GPU tensor - no need for CPU conversion!\n",
    "\n",
    "# TEST: Force release cached memory after VAE step\n",
    "print(f\"BEFORE VAE empty_cache() - Current memory: {torch.cuda.memory_allocated() / (1024 * 1024):.1f} MiB\")\n",
    "print(\"Check nvidia-smi now to see memory before VAE empty_cache()\")\n",
    "time.sleep(2)\n",
    "torch.cuda.empty_cache()\n",
    "print(f\"AFTER VAE empty_cache() - Current memory: {torch.cuda.memory_allocated() / (1024 * 1024):.1f} MiB\")\n",
    "print(\"Check nvidia-smi again to see if VAE cached memory was released\")\n"
   ]
  },
  {
   "cell_type": "code",
   "execution_count": null,
   "id": "fabb4d23",
   "metadata": {},
   "outputs": [
    {
     "ename": "NameError",
     "evalue": "name 'mel_spectrogram' is not defined",
     "output_type": "error",
     "traceback": [
      "\u001b[0;31m---------------------------------------------------------------------------\u001b[0m",
      "\u001b[0;31mNameError\u001b[0m                                 Traceback (most recent call last)",
      "Cell \u001b[0;32mIn[3], line 10\u001b[0m\n\u001b[1;32m      8\u001b[0m \u001b[38;5;66;03m# Run vocoder\u001b[39;00m\n\u001b[1;32m      9\u001b[0m start_time \u001b[38;5;241m=\u001b[39m time\u001b[38;5;241m.\u001b[39mtime()\n\u001b[0;32m---> 10\u001b[0m waveform \u001b[38;5;241m=\u001b[39m model\u001b[38;5;241m.\u001b[39mmel_spectrogram_to_waveform(\u001b[43mmel_spectrogram\u001b[49m)[\u001b[38;5;241m0\u001b[39m]\n\u001b[1;32m     11\u001b[0m torch\u001b[38;5;241m.\u001b[39mcuda\u001b[38;5;241m.\u001b[39msynchronize()\n\u001b[1;32m     12\u001b[0m vocoder_time \u001b[38;5;241m=\u001b[39m time\u001b[38;5;241m.\u001b[39mtime() \u001b[38;5;241m-\u001b[39m start_time\n",
      "\u001b[0;31mNameError\u001b[0m: name 'mel_spectrogram' is not defined"
     ]
    }
   ],
   "source": [
    "# VOCODER VRAM MEASUREMENT\n",
    "# Use mel_spectrogram directly - it's already a GPU tensor!\n",
    "\n",
    "# Get memory before vocoder and reset peak tracker\n",
    "memory_before_vocoder = torch.cuda.memory_allocated() / (1024 * 1024)\n",
    "torch.cuda.reset_peak_memory_stats()\n",
    "\n",
    "# Run vocoder\n",
    "start_time = time.time()\n",
    "waveform = model.mel_spectrogram_to_waveform(mel_spectrogram)[0]\n",
    "torch.cuda.synchronize()\n",
    "vocoder_time = time.time() - start_time\n",
    "\n",
    "# Get memory usage\n",
    "isolated_peak = torch.cuda.max_memory_allocated() / (1024 * 1024)  # Convert to MiB\n",
    "current_memory = torch.cuda.memory_allocated() / (1024 * 1024)  # Convert to MiB\n",
    "isolated_cost = isolated_peak - memory_before_vocoder\n",
    "\n",
    "print(f\"VOCODER ISOLATED PEAK: {isolated_peak:.1f} MiB (cost: +{isolated_cost:.1f} MiB)\")\n",
    "print(f\"VOCODER CURRENT MEMORY: {current_memory:.1f} MiB\")\n",
    "print(f\"VOCODER TIME: {vocoder_time:.1f}s\")\n",
    "\n",
    "# Final memory summary\n",
    "print(f\"\\n=== ISOLATED MEMORY COSTS SUMMARY ===\")\n",
    "print(f\"Model Loading Baseline: {baseline_memory:.1f} MiB\")\n",
    "print(f\"Diffusion Cost: (see diffusion cell output)\")\n",
    "print(f\"VAE Cost: (see VAE cell output)\")\n",
    "print(f\"Vocoder Cost: +{isolated_cost:.1f} MiB\")\n",
    "\n",
    "# Play audio\n",
    "ipd.display(ipd.Audio(waveform, rate=sr))\n",
    "\n",
    "#lo"
   ]
  },
  {
   "cell_type": "code",
   "execution_count": null,
   "id": "72f11dae",
   "metadata": {},
   "outputs": [],
   "source": []
  },
  {
   "cell_type": "code",
   "execution_count": null,
   "id": "2ab5ce03",
   "metadata": {},
   "outputs": [],
   "source": []
  },
  {
   "cell_type": "code",
   "execution_count": null,
   "id": "0312c82d",
   "metadata": {},
   "outputs": [],
   "source": []
  }
 ],
 "metadata": {
  "kernelspec": {
   "display_name": "ldmenv",
   "language": "python",
   "name": "python3"
  },
  "language_info": {
   "codemirror_mode": {
    "name": "ipython",
    "version": 3
   },
   "file_extension": ".py",
   "mimetype": "text/x-python",
   "name": "python",
   "nbconvert_exporter": "python",
   "pygments_lexer": "ipython3",
   "version": "3.8.20"
  }
 },
 "nbformat": 4,
 "nbformat_minor": 5
}
